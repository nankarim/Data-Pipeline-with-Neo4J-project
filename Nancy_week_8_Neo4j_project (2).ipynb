{
  "nbformat": 4,
  "nbformat_minor": 0,
  "metadata": {
    "colab": {
      "provenance": []
    },
    "kernelspec": {
      "name": "python3",
      "display_name": "Python 3"
    },
    "language_info": {
      "name": "python"
    }
  },
  "cells": [
    {
      "cell_type": "code",
      "execution_count": null,
      "metadata": {
        "id": "UHhCsZ8ExwJo"
      },
      "outputs": [],
      "source": [
        "# Import required libraries\n",
        "from neo4j import GraphDatabase\n",
        "import pandas as pd\n",
        "import psycopg2\n",
        "\n",
        "# Define Neo4j connection details\n",
        "neo4j_uri = \"bolt://localhost:7687\"\n",
        "neo4j_user = \"neo4j\"\n",
        "neo4j_password = \"password\"\n",
        "\n",
        "# Define Postgres connection details\n",
        "pg_host = \"localhost\"\n",
        "pg_database = \"telecom_data\"\n",
        "pg_user = \"postgres\"\n",
        "pg_password = \"password\"\n",
        "\n",
        "# Define Neo4j query to extract data\n",
        "neo4j_query = \"\"\"\n",
        "MATCH (c:Customer)-[s:SUBSCRIBED_TO]->(sv:Service)\n",
        "RETURN c.customer_id AS customer_id, s.subscription_id AS subscription_id, sv.service_id AS service_id,\n",
        "       s.start_date AS start_date, s.end_date AS end_date, s.price AS price\n",
        "\"\"\"\n",
        "\n",
        "# Define function to extract data from Neo4j and return a Pandas DataFrame\n",
        "def extract_data():\n",
        "    # Connect to Neo4j\n",
        "    driver = GraphDatabase.driver(neo4j_uri, auth=(neo4j_user, neo4j_password))\n",
        "    with driver.session() as session:\n",
        "        result = session.run(neo4j_query)\n",
        "        data = result.data()\n",
        "        df = pd.DataFrame(data)\n",
        "    return df\n",
        "\n",
        "# Define function to transform data\n",
        "def transform_data(df):\n",
        "    # Convert date fields to datetime objects\n",
        "    df[\"start_date\"] = pd.to_datetime(df[\"start_date\"])\n",
        "    df[\"end_date\"] = pd.to_datetime(df[\"end_date\"])\n",
        "    \n",
        "    # Remove null values\n",
        "    df = df.dropna()\n",
        "    \n",
        "    return df\n",
        "\n",
        "# Define function to load data into Postgres\n",
        "def load_data(df):\n",
        "    # Connect to Postgres\n",
        "    conn = psycopg2.connect(host=pg_host, database=pg_database, user=pg_user, password=pg_password)\n",
        "    # Create table if it doesn't exist\n",
        "    with conn.cursor() as cursor:\n",
        "        cursor.execute(\"\"\"\n",
        "        CREATE TABLE IF NOT EXISTS telecom_data (\n",
        "            customer_id INTEGER,\n",
        "            subscription_id INTEGER,\n",
        "            service_id INTEGER,\n",
        "            start_date DATE,\n",
        "            end_date DATE,\n",
        "            price FLOAT\n",
        "        )\n",
        "        \"\"\")\n",
        "    # Insert data into table\n",
        "    with conn.cursor() as cursor:\n",
        "        for _, row in df.iterrows():\n",
        "            cursor.execute(\"\"\"\n",
        "            INSERT INTO telecom_data (customer_id, subscription_id, service_id, start_date, end_date, price)\n",
        "            VALUES (%s, %s, %s, %s, %s, %s)\n",
        "            \"\"\", (row[\"customer_id\"], row[\"subscription_id\"], row[\"service_id\"], row[\"start_date\"], row[\"end_date\"], row[\"price\"]))\n",
        "    \n",
        "    conn.commit()\n",
        "    conn.close()\n",
        "\n",
        "# Define main function\n",
        "def main():\n",
        "    # Extract data from Neo4j\n",
        "    df = extract_data()\n",
        "    \n",
        "    # Transform data using Pandas\n",
        "    df = transform_data(df)\n",
        "    \n",
        "    # Load data into Postgres\n",
        "    load_data(df)\n",
        "\n",
        "# Call main function\n",
        "if __name__ == \"__main__\":\n",
        "    main()\n"
      ]
    },
    {
      "cell_type": "code",
      "source": [
        "# Import required libraries\n",
        "!pip install neo4j\n",
        "from neo4j import GraphDatabase\n",
        "import pandas as pd\n",
        "import psycopg2"
      ],
      "metadata": {
        "colab": {
          "base_uri": "https://localhost:8080/"
        },
        "id": "UYwLWVUVx_NM",
        "outputId": "26bf8ff9-2778-42fa-d0ee-c3949e89aeef"
      },
      "execution_count": 3,
      "outputs": [
        {
          "output_type": "stream",
          "name": "stdout",
          "text": [
            "Looking in indexes: https://pypi.org/simple, https://us-python.pkg.dev/colab-wheels/public/simple/\n",
            "Collecting neo4j\n",
            "  Downloading neo4j-5.9.0.tar.gz (188 kB)\n",
            "\u001b[2K     \u001b[90m━━━━━━━━━━━━━━━━━━━━━━━━━━━━━━━━━━━━━━━\u001b[0m \u001b[32m188.5/188.5 kB\u001b[0m \u001b[31m8.8 MB/s\u001b[0m eta \u001b[36m0:00:00\u001b[0m\n",
            "\u001b[?25h  Installing build dependencies ... \u001b[?25l\u001b[?25hdone\n",
            "  Getting requirements to build wheel ... \u001b[?25l\u001b[?25hdone\n",
            "  Installing backend dependencies ... \u001b[?25l\u001b[?25hdone\n",
            "  Preparing metadata (pyproject.toml) ... \u001b[?25l\u001b[?25hdone\n",
            "Requirement already satisfied: pytz in /usr/local/lib/python3.10/dist-packages (from neo4j) (2022.7.1)\n",
            "Building wheels for collected packages: neo4j\n",
            "  Building wheel for neo4j (pyproject.toml) ... \u001b[?25l\u001b[?25hdone\n",
            "  Created wheel for neo4j: filename=neo4j-5.9.0-py3-none-any.whl size=259467 sha256=bab354bef77523d5450312e1edb51a04f3d43c40181e546d8fd502ac09dba993\n",
            "  Stored in directory: /root/.cache/pip/wheels/aa/d6/e2/3534952aaddb39337f01f3fd66b3f3f2dd65051306a614af92\n",
            "Successfully built neo4j\n",
            "Installing collected packages: neo4j\n",
            "Successfully installed neo4j-5.9.0\n"
          ]
        }
      ]
    },
    {
      "cell_type": "code",
      "source": [
        "# Define Neo4j connection details\n",
        "neo4j_uri = \"neo4j+s://a90fe3af.databases.neo4j.io\"\n",
        "neo4j_user = \"neo4j\"\n",
        "neo4j_password = \"xXPKtNX5vkz-tZQrCGwzls9TOVSgyJzkvF5Ckdvp2BU\"\n",
        "driver = GraphDatabase.driver(neo4j_uri, auth=(neo4j_user, neo4j_password))"
      ],
      "metadata": {
        "id": "eXh3kTOTyL8R"
      },
      "execution_count": 4,
      "outputs": []
    },
    {
      "cell_type": "code",
      "source": [
        "!curl ipecho.net/plain"
      ],
      "metadata": {
        "colab": {
          "base_uri": "https://localhost:8080/"
        },
        "id": "orwGtfOuycVB",
        "outputId": "86f2e37f-fc37-42c5-cc4e-cc97650a9211"
      },
      "execution_count": 5,
      "outputs": [
        {
          "output_type": "stream",
          "name": "stdout",
          "text": [
            "34.125.70.160"
          ]
        }
      ]
    },
    {
      "cell_type": "code",
      "source": [
        "# Define Postgres connection details\n",
        "pg_host = \"34.30.81.146\"\n",
        "pg_database = \"neo4jproject\"\n",
        "pg_user = \"telcom_dataneo4jproj\"\n",
        "pg_password = \"test\""
      ],
      "metadata": {
        "id": "W2nS2gvWyezx"
      },
      "execution_count": 6,
      "outputs": []
    },
    {
      "cell_type": "code",
      "source": [
        "# Define Neo4j query to extract data\n",
        "neo4j_query =  \"\"\"\n",
        "MATCH (c:Customer)-[:HAS_SUBSCRIPTION]->(s:Subscription)-[:USES]->(sv:Service)\n",
        "RETURN c.customer_id AS customer_id, s.subscription_id AS subscription_id,\n",
        "       sv.service_id AS service_id, s.start_date AS start_date,\n",
        "       s.end_date AS end_date, s.price AS price\n",
        "\"\"\""
      ],
      "metadata": {
        "id": "zGR5OZ7Iz9Qh"
      },
      "execution_count": 7,
      "outputs": []
    },
    {
      "cell_type": "code",
      "source": [
        "# Define function to extract data from Neo4j and return a Pandas DataFrame\n",
        "def extract_data():\n",
        "    # Connect to Neo4j\n",
        "    driver = GraphDatabase.driver(neo4j_uri, auth=(neo4j_user, neo4j_password))\n",
        "    with driver.session() as session:\n",
        "        result = session.run(neo4j_query)\n",
        "        data = result.data()\n",
        "        df = pd.DataFrame(data)\n",
        "    return df"
      ],
      "metadata": {
        "id": "ctlE14G1y7xp"
      },
      "execution_count": 8,
      "outputs": []
    },
    {
      "cell_type": "code",
      "source": [
        "# Define function to transform data\n",
        "def transform_data(df):\n",
        "    # Convert date fields to datetime objects\n",
        "    df[\"start_date\"] = pd.to_datetime(df[\"start_date\"])\n",
        "    df[\"end_date\"] = pd.to_datetime(df[\"end_date\"])\n",
        "    \n",
        "    # Remove null values\n",
        "    df = df.dropna()\n",
        "    \n",
        "    return df"
      ],
      "metadata": {
        "id": "OwS91MhX0Z8w"
      },
      "execution_count": 9,
      "outputs": []
    },
    {
      "cell_type": "code",
      "source": [
        "# Define function to load data into Postgres\n",
        "def load_data(df):\n",
        "    # Connect to Postgres\n",
        "    conn = psycopg2.connect(host=pg_host, database=pg_database, user=pg_user, password=pg_password)\n",
        "    # Create table if it doesn't exist\n",
        "    with conn.cursor() as cursor:\n",
        "        cursor.execute(\"\"\"\n",
        "        CREATE TABLE IF NOT EXISTS telecom_data (\n",
        "            customer_id INTEGER,\n",
        "            subscription_id INTEGER,\n",
        "            service_id INTEGER,\n",
        "            start_date DATE,\n",
        "            end_date DATE,\n",
        "            price FLOAT\n",
        "        )\n",
        "        \"\"\")"
      ],
      "metadata": {
        "id": "sz6k2lp-0nxB"
      },
      "execution_count": 16,
      "outputs": []
    },
    {
      "cell_type": "code",
      "source": [
        "  # Insert data into table\n",
        "    with conn.cursor() as cursor:\n",
        "        for _, row in df.iterrows():\n",
        "            cursor.execute(\"\"\"\n",
        "            INSERT INTO telecom_data (customer_id, subscription_id, service_id, start_date, end_date, price)\n",
        "            VALUES (%s, %s, %s, %s, %s, %s)\n",
        "            \"\"\", (row[\"customer_id\"], row[\"subscription_id\"], row[\"service_id\"], row[\"start_date\"], row[\"end_date\"], row[\"price\"]))\n",
        "    \n",
        "    conn.commit()\n",
        "    conn.close()"
      ],
      "metadata": {
        "id": "G2QVpkCa068h"
      },
      "execution_count": null,
      "outputs": []
    },
    {
      "cell_type": "code",
      "source": [
        "# Define main function\n",
        "def main():\n",
        "    # Extract data from Neo4j\n",
        "    df = extract_data()\n",
        "    \n",
        "    # Transform data using Pandas\n",
        "    df = transform_data(df)\n",
        "    \n",
        "    # Load data into Postgres\n",
        "    load_data(df)"
      ],
      "metadata": {
        "id": "zLGL010g1Eg3"
      },
      "execution_count": 12,
      "outputs": []
    },
    {
      "cell_type": "code",
      "source": [
        "# Call main function\n",
        "if __name__ == \"__main__\":\n",
        "    main()"
      ],
      "metadata": {
        "id": "sy1UpPOG1N0P"
      },
      "execution_count": null,
      "outputs": []
    }
  ]
}